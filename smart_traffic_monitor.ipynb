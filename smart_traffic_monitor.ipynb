{
  "cells": [
    {
      "cell_type": "code",
      "execution_count": 18,
      "metadata": {},
      "outputs": [],
      "source": [
        "# !pip install ultralytics"
      ]
    },
    {
      "cell_type": "code",
      "execution_count": 19,
      "metadata": {
        "id": "7H51GliOkMt0"
      },
      "outputs": [],
      "source": [
        "import cv2\n",
        "import numpy as np\n",
        "from ultralytics import YOLO\n",
        "import matplotlib.pyplot as plt"
      ]
    },
    {
      "cell_type": "code",
      "execution_count": null,
      "metadata": {
        "colab": {
          "base_uri": "https://localhost:8080/",
          "height": 602
        },
        "id": "FktbqAZTmhBp",
        "outputId": "d5132ed6-479a-48d6-9218-5f76cbc5bbe7"
      },
      "outputs": [],
      "source": [
        "video_path = 'Road_traffic_sample.mp4'\n",
        "model = YOLO('yolov8x.pt')\n",
        "cap = cv2.VideoCapture(video_path)\n",
        "\n",
        "fps = cap.get(cv2.CAP_PROP_FPS)\n",
        "video_x = int(cap.get(cv2.CAP_PROP_FRAME_WIDTH))\n",
        "video_y = int(cap.get(cv2.CAP_PROP_FRAME_HEIGHT))\n",
        "writer = cv2.VideoWriter('output_sample.avi', cv2.VideoWriter_fourcc(*'XVID'), fps, (video_x, video_y))\n",
        "\n",
        "cars_counter = 0\n",
        "cars_id = set()\n",
        "entry_frame = {}\n",
        "exit_frame = {}\n",
        "cars_speed = {}\n",
        "\n",
        "while True:\n",
        "    ret, frame= cap.read()\n",
        "    if not ret:\n",
        "        break\n",
        "    \n",
        "    h, w, _ = frame.shape\n",
        "    line = int(h * 0.455)\n",
        "    cv2.line(frame, (0, line+15), (w, line+65), (0, 255, 0), 2)\n",
        "    \n",
        "    b_boxes = model.track(frame, show = False, save = False, persist=True, verbose = False)[0].boxes.data.tolist()\n",
        "    \n",
        "    if b_boxes is not None:\n",
        "      for b_box in b_boxes:\n",
        "        if len(b_box) < 7:\n",
        "          break\n",
        "        \n",
        "        object_id = int(b_box[4])\n",
        "        confidence = b_box[5]\n",
        "        object_class = int(b_box[6])\n",
        "        \n",
        "        \n",
        "        if (confidence < 0.8) or (object_class != 2):\n",
        "          continue\n",
        "        \n",
        "        if object_id not in cars_id:\n",
        "          cars_id.add(object_id)\n",
        "          cars_counter += 1\n",
        "        \n",
        "        x1, y1, x2, y2 = map(int, b_box[:4])\n",
        "        cv2.rectangle(frame, (x1, y1), (x2, y2), (223, 70, 0), 2)\n",
        "        cv2.rectangle(frame, (x1, y1-30), (x2, y1), (223, 70, 0), -1)\n",
        "        cv2.putText(frame, f'Car {object_id}', (x1, y1), cv2.FONT_HERSHEY_SIMPLEX, 1, (255, 255, 255), 2)\n",
        "        cv2.rectangle(frame, (x1, y2), (x2, y2+30), (223, 70, 0), -1)\n",
        "        \n",
        "        if object_id not in entry_frame:\n",
        "          entry_frame[object_id] = cap.get(cv2.CAP_PROP_POS_FRAMES)\n",
        "        \n",
        "        if y1 < line:\n",
        "          if object_id not in exit_frame:\n",
        "            exit_frame[object_id] = cap.get(cv2.CAP_PROP_POS_FRAMES)\n",
        "        \n",
        "        if object_id not in cars_speed and object_id in exit_frame:\n",
        "          if (exit_frame[object_id] - entry_frame[object_id]) > 0:\n",
        "            time_seconds =( exit_frame[object_id] - entry_frame[object_id]) / fps\n",
        "            cars_speed[object_id] = 3.6 * (15 / (time_seconds))\n",
        "        \n",
        "        if object_id in cars_speed:\n",
        "          cv2.putText(frame, f'{cars_speed[object_id]:.2f} Km/H', (x1, y2+30), cv2.FONT_HERSHEY_SIMPLEX, 0.7, (255, 255, 255), 2)\n",
        "    \n",
        "    cv2.rectangle(frame, (50, 50), (330, 130), (0, 255, 0), -1)\n",
        "    cv2.putText(frame, f'{cars_counter} cars passed', (70, 100), cv2.FONT_HERSHEY_SIMPLEX, 1, (0, 0, 0), 2)\n",
        "    \n",
        "    writer.write(frame)\n",
        "    frame = cv2.resize(frame, (1000, 600))\n",
        "    cv2.imshow('Monitor', frame)\n",
        "    if cv2.waitKey(1)& 0xFF == 27:\n",
        "      break\n",
        "cap.release()\n",
        "cv2.destroyAllWindows()"
      ]
    }
  ],
  "metadata": {
    "colab": {
      "provenance": []
    },
    "kernelspec": {
      "display_name": "Python 3",
      "name": "python3"
    },
    "language_info": {
      "codemirror_mode": {
        "name": "ipython",
        "version": 3
      },
      "file_extension": ".py",
      "mimetype": "text/x-python",
      "name": "python",
      "nbconvert_exporter": "python",
      "pygments_lexer": "ipython3",
      "version": "3.12.4"
    }
  },
  "nbformat": 4,
  "nbformat_minor": 0
}
